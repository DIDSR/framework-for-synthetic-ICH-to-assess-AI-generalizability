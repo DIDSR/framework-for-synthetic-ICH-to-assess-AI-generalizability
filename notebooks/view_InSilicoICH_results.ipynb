{
 "cells": [
  {
   "cell_type": "code",
   "execution_count": null,
   "metadata": {},
   "outputs": [],
   "source": [
    "import sys\n",
    "import pandas as pd\n",
    "from pathlib import Path\n",
    "import nibabel as nib\n",
    "import numpy as np\n",
    "import matplotlib.pyplot as plt\n",
    "import skimage as ski\n",
    "import pydicom\n",
    "import os\n",
    "from dotenv import load_dotenv\n",
    "load_dotenv()\n",
    "# options\n",
    "mask_method = 'boundary' # 'boundary' or 'fill'\n",
    "\n",
    "# paths\n",
    "#dataset_path = '../datasets/computed-tomography-images-for-intracranial-hemorrhage-detection-and-segmentation-1.3.1'\n",
    "base_dir = Path(os.environ.get('BASE_DIR'))\n",
    "dataset_path = base_dir / 'mA_280_run1'\n",
    "results_df = pd.read_csv(dataset_path / 'mA_280_run1/mA_280_run1_results.csv')\n",
    "metadata_df = pd.read_csv(dataset_path / 'mA_280_run1/mA_280_run1_metadata.csv')\n",
    "\n",
    "# sort by Model_Output, ascending=True will give lowest predictive value first\n",
    "results_df = results_df.sort_values(by='pred', ascending=False)\n",
    "\n",
    "# just visualize the cases with hemorrhage (we're looking at the false negatives)\n",
    "lesion_present_IDs = results_df[results_df['truth'] == 1]['case'].tolist()\n",
    "\n",
    "def read_dicom(img_path):\n",
    "    dcm = pydicom.read_file(img_path)\n",
    "    return dcm.pixel_array + int(dcm.RescaleIntercept)\n",
    "\n",
    "rows = 15\n",
    "cols = 5\n",
    "fig, axs = plt.subplots(nrows=rows, ncols=cols, gridspec_kw=dict(wspace=0, hspace=0.2), figsize=(3*cols, 4*rows))\n",
    "axs = axs.flat\n",
    "for ax, patient in zip(axs, lesion_present_IDs):\n",
    "    model_pred = round(results_df[results_df['case'] == patient]['pred'].item(), 4)\n",
    "    patient = str(patient).zfill(3)\n",
    "\n",
    "    # find slice with biggest hemorrhage mask and load dicom\n",
    "    case_metadata = metadata_df[metadata_df['name'] == patient]\n",
    "    vol_max_idx = case_metadata['lesion volume [mL]'].idxmax()\n",
    "\n",
    "    img_path = case_metadata['image file'][vol_max_idx]\n",
    "    mask_path = case_metadata['mask file'][vol_max_idx]\n",
    "\n",
    "    img = read_dicom(img_path)\n",
    "\n",
    "    mask = read_dicom(mask_path)\n",
    "    mask = np.where(mask > 0, 1, 0) # binarize mask\n",
    "\n",
    "    alpha = 0.5\n",
    "    cmap='Reds_r'\n",
    "\n",
    "    # plot\n",
    "    mask = ski.morphology.opening(mask, np.ones(2*[5]))\n",
    "    new_mask = np.ma.masked_where(mask == False, mask)\n",
    "    ax.imshow(img, vmin=0, vmax=80, cmap='gray') # show img\n",
    "    ax.imshow(new_mask, cmap=cmap, alpha=alpha)\n",
    "\n",
    "    ax.set_title(f'{patient}\\nmodel prediction: {model_pred}')\n",
    "    ax.axis('off')\n"
   ]
  },
  {
   "cell_type": "code",
   "execution_count": null,
   "metadata": {},
   "outputs": [],
   "source": [
    "import seaborn as sns\n",
    "sns.scatterplot(data=results_df, x='volume', y='pred', hue='type')"
   ]
  },
  {
   "cell_type": "code",
   "execution_count": null,
   "metadata": {},
   "outputs": [],
   "source": [
    "results_df.corr(numeric_only=True)"
   ]
  },
  {
   "cell_type": "code",
   "execution_count": null,
   "metadata": {},
   "outputs": [],
   "source": [
    "sns.scatterplot(data=results_df, x='intensity', y='pred', hue='type')"
   ]
  },
  {
   "cell_type": "code",
   "execution_count": null,
   "metadata": {},
   "outputs": [],
   "source": []
  }
 ],
 "metadata": {
  "kernelspec": {
   "display_name": "synthetic-ich-for-cad-evaluations",
   "language": "python",
   "name": "python3"
  },
  "language_info": {
   "codemirror_mode": {
    "name": "ipython",
    "version": 3
   },
   "file_extension": ".py",
   "mimetype": "text/x-python",
   "name": "python",
   "nbconvert_exporter": "python",
   "pygments_lexer": "ipython3",
   "version": "3.11.13"
  }
 },
 "nbformat": 4,
 "nbformat_minor": 2
}
