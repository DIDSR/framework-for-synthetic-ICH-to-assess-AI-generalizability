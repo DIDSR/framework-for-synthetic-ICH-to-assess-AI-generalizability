{
 "cells": [
  {
   "cell_type": "markdown",
   "metadata": {},
   "source": [
    "# Compile hemorrhage characteristics from BHSD dataset\n",
    "### Creates and saves volume (mL) and attenuation (HU) distributions from BHSD datasets.\n",
    "\n",
    "Download BHSD if not found in repository:"
   ]
  },
  {
   "cell_type": "code",
   "execution_count": 1,
   "metadata": {},
   "outputs": [
    {
     "name": "stdout",
     "output_type": "stream",
     "text": [
      "BHSD dataset already downloaded.\n"
     ]
    }
   ],
   "source": [
    "# download and extract BHSD data:\n",
    "import os\n",
    "from urllib.request import urlopen\n",
    "from io import BytesIO\n",
    "from zipfile import ZipFile\n",
    "\n",
    "if os.path.isdir('../datasets/BHSD/label_192/'):\n",
    "    print('BHSD dataset already downloaded.')\n",
    "else:\n",
    "    url = 'https://huggingface.co/datasets/WuBiao/BHSD/resolve/main/label_192.zip'\n",
    "    save_path = '../datasets/BHSD/'\n",
    "\n",
    "    http_response = urlopen(url)\n",
    "    zipfile = ZipFile(BytesIO(http_response.read()))\n",
    "    zipfile.extractall(path=save_path)"
   ]
  },
  {
   "cell_type": "markdown",
   "metadata": {},
   "source": [
    "### Create and save Pandas dataframe with BHSD hemorrhage characteristics:"
   ]
  },
  {
   "cell_type": "code",
   "execution_count": 4,
   "metadata": {},
   "outputs": [
    {
     "name": "stdout",
     "output_type": "stream",
     "text": [
      "Found BHSD spreadsheet\n"
     ]
    }
   ],
   "source": [
    "from pathlib import *\n",
    "import nibabel as nib\n",
    "import numpy as np\n",
    "import pandas as pd\n",
    "import sys\n",
    "import skimage as sk\n",
    "import matplotlib.pyplot as plt\n",
    "\n",
    "regenerate_spreadsheet = False\n",
    "verbose = False # set to False to disable pesky things like printing file IDs and cluster numbers used for debugging\n",
    "\n",
    "BHSD_path = Path('../datasets/BHSD/label_192/') # TODO: move to public location if necessary\n",
    "\n",
    "if not regenerate_spreadsheet:\n",
    "    try:\n",
    "        df = pd.read_csv('../datasets/BHSD/BHSD_hemorrhage_characteristics.csv')\n",
    "        print('Found BHSD spreadsheet')\n",
    "    except:\n",
    "        print('CSV not found, regenerating spreadsheet...')\n",
    "        regenerate_spreadsheet = True\n",
    "\n",
    "if regenerate_spreadsheet:\n",
    "    # initialize empty dataframe\n",
    "    df = pd.DataFrame(columns=['Dataset', 'Data_ID', 'Type', 'Volume_[mL]', 'Mean_HU', 'Median_HU', 'dx', 'dy', 'dz', 'num_slices', 'z_dist'])\n",
    "\n",
    "    cluster_threshold = 15 # clusters an area less than this number (in voxels) are excluded, necessary because manual and automatic segmentation leave some spurious clusters of voxels\n",
    "\n",
    "    labels = [\"bkg\", \"EDH\", \"IPH\", \"IVH\", \"SAH\", \"SDH\"] # 0, 1, 2, 3, 4, 5; labels used by BHSD dataset creators\n",
    "\n",
    "    img_dir = BHSD_path / \"images\"\n",
    "    truth_dir = BHSD_path / \"ground truths\"\n",
    "\n",
    "    row_idx = 0\n",
    "\n",
    "    label_names = sorted(os.listdir(img_dir))\n",
    "\n",
    "    for idx, file in enumerate(label_names):\n",
    "        if verbose: print(str(file))\n",
    "        img = nib.load(img_dir / file)\n",
    "        [dx, dy, dz] = img.header['pixdim'][1:4]\n",
    "        image = img.get_fdata()\n",
    "\n",
    "        mask = nib.load(truth_dir / file).get_fdata()\n",
    "\n",
    "        for label_idx in range(1, len(labels)): # skip background\n",
    "\n",
    "            hemorrhage_volume = (len(np.argwhere(mask == label_idx)))*((dx*dy*dz)/1000)\n",
    "\n",
    "            if hemorrhage_volume != 0:\n",
    "                hemorrhage_mask = np.where(mask == label_idx, 1, 0) # create new hemorrhage mask for corresponding lesion type\n",
    "\n",
    "                label_mask, num = sk.measure.label(hemorrhage_mask, return_num=True, connectivity=1)\n",
    "                if verbose: print('number of ' + str(labels[label_idx]) + ' clusters: ' + str(num))\n",
    "\n",
    "                for cluster_idx in range(1,num+1):\n",
    "                    cluster = np.where(label_mask == cluster_idx, 1, 0)\n",
    "                    if verbose: print('cluster idx: '+str(cluster_idx)+', count: '+str(np.count_nonzero(cluster)))\n",
    "                    if np.count_nonzero(cluster) > cluster_threshold:\n",
    "                        num_slices = 0\n",
    "                        for slice_idx in range(cluster.shape[2]):\n",
    "                            slice = cluster[:, :, slice_idx]\n",
    "                            if np.any(slice): # check if hemorrhage\n",
    "                                num_slices += 1\n",
    "\n",
    "                        hemorrhage_volume = (len(np.argwhere(cluster == 1)))*((dx*dy*dz)/1000)\n",
    "\n",
    "                        z_dist = num_slices * dz\n",
    "\n",
    "                        # calculate mean and median HU\n",
    "                        lesion_only = np.multiply(image, cluster)\n",
    "                        lesion_only[lesion_only < -500] = 0\n",
    "                        mean_HU = np.mean(lesion_only[np.nonzero(cluster)])\n",
    "                        median_HU = np.median(lesion_only[np.nonzero(cluster)])\n",
    "\n",
    "                        # add to data frame and move on\n",
    "                        df.loc[row_idx] = ['BHSD', str(file), labels[label_idx], hemorrhage_volume, mean_HU, median_HU, dx, dy, dz, num_slices, z_dist]\n",
    "                        row_idx += 1\n",
    "\n",
    "    df.to_csv('../datasets/BHSD/BHSD_hemorrhage_characteristics.csv')\n",
    "    "
   ]
  }
 ],
 "metadata": {
  "kernelspec": {
   "display_name": "insilicoich-pub1",
   "language": "python",
   "name": "python3"
  },
  "language_info": {
   "codemirror_mode": {
    "name": "ipython",
    "version": 3
   },
   "file_extension": ".py",
   "mimetype": "text/x-python",
   "name": "python",
   "nbconvert_exporter": "python",
   "pygments_lexer": "ipython3",
   "version": "3.11.9"
  }
 },
 "nbformat": 4,
 "nbformat_minor": 2
}
