{
 "cells": [
  {
   "cell_type": "code",
   "execution_count": 3,
   "metadata": {},
   "outputs": [
    {
     "name": "stdout",
     "output_type": "stream",
     "text": [
      "0       27.282451\n",
      "1        2.501761\n",
      "2       79.529002\n",
      "3        0.000000\n",
      "4        0.000000\n",
      "          ...    \n",
      "2495     0.000000\n",
      "2496    11.516887\n",
      "2497    10.465849\n",
      "2498     4.403668\n",
      "2499    27.282451\n",
      "Name: LesionVolume(mL), Length: 2500, dtype: float64\n",
      "0       EDH\n",
      "1       SDH\n",
      "2       SDH\n",
      "3       NaN\n",
      "4       NaN\n",
      "       ... \n",
      "2495    NaN\n",
      "2496    EDH\n",
      "2497    EDH\n",
      "2498    SDH\n",
      "2499    EDH\n",
      "Name: Subtype, Length: 2500, dtype: object\n",
      "0       ['EDH']\n",
      "1       ['SDH']\n",
      "2           NaN\n",
      "3           NaN\n",
      "4       ['IPH']\n",
      "         ...   \n",
      "2481        NaN\n",
      "2482        NaN\n",
      "2483    ['SDH']\n",
      "2484    ['EDH']\n",
      "2485        NaN\n",
      "Name: type, Length: 2486, dtype: object\n"
     ]
    }
   ],
   "source": [
    "import pandas as pd\n",
    "\n",
    "input_csv = pd.read_csv('/projects01/didsr-aiml/jayse.weaver/insilicoich/IO_FIX_2500/IO_FIX_2500.csv')\n",
    "output_csv = pd.read_csv('/projects01/didsr-aiml/jayse.weaver/insilicoich/IO_FIX_2500/IO_FIX_2500_CAD_1_results.csv')\n",
    "\n",
    "print(input_csv['LesionVolume(mL)'])\n",
    "print(input_csv['Subtype'])\n",
    "print(output_csv['type'])"
   ]
  }
 ],
 "metadata": {
  "kernelspec": {
   "display_name": "insilicoich-pub1",
   "language": "python",
   "name": "python3"
  },
  "language_info": {
   "codemirror_mode": {
    "name": "ipython",
    "version": 3
   },
   "file_extension": ".py",
   "mimetype": "text/x-python",
   "name": "python",
   "nbconvert_exporter": "python",
   "pygments_lexer": "ipython3",
   "version": "3.11.9"
  }
 },
 "nbformat": 4,
 "nbformat_minor": 2
}
